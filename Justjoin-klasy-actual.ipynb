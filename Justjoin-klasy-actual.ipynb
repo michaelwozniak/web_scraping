{
 "cells": [
  {
   "cell_type": "code",
   "execution_count": 66,
   "metadata": {},
   "outputs": [],
   "source": [
    "from selenium import webdriver\n",
    "import time\n",
    "import getpass\n",
    "import datetime\n",
    "import os\n",
    "import pandas as pd\n",
    "from selenium.webdriver.common.keys import Keys\n",
    "import matplotlib.pyplot as plt\n",
    "from selenium.webdriver import ActionChains"
   ]
  },
  {
   "cell_type": "code",
   "execution_count": 67,
   "metadata": {},
   "outputs": [],
   "source": [
    "class Scraper():\n",
    "\n",
    "    \n",
    "    def __init__(self, pages_100 = True, login = False):\n",
    "        self.pages_100 = pages_100\n",
    "        self.login = login\n",
    "        gecko_path = r'C:/Users/Michal_schudnij/Desktop/Webscraping/class7/geckodriver'\n",
    "        url = 'https://justjoin.it/'\n",
    "        options = webdriver.firefox.options.Options()\n",
    "        options.headless = False\n",
    "        self.driver = webdriver.Firefox(options = options, executable_path = gecko_path)\n",
    "        self.driver.get(url)\n",
    "\n",
    "        \n",
    "#     def open_site(self):\n",
    "#         self.driver.get(url)\n",
    "\n",
    "    def log_in(self):\n",
    "        self.driver.find_element_by_xpath('//button/span[@class=\"MuiFab-label\"][text()=\"Sign in\"]').click()\n",
    "        self.driver.find_element_by_xpath('//span[@class=\"MuiButton-label\"][text()=\"Sign in as Developer\"]').click()\n",
    "        time.sleep(2)\n",
    "        username = self.driver.find_element_by_xpath('//input[@name=\"email\"]')\n",
    "        my_email = input('Please provide your email:')\n",
    "        username.send_keys(my_email)\n",
    "        time.sleep(5)\n",
    "        password = self.driver.find_element_by_xpath('//input[@name=\"password\"]')\n",
    "        my_pass = getpass.getpass('Please provide your password:')\n",
    "        password.send_keys(my_pass)\n",
    "        time.sleep(5)\n",
    "        self.driver.find_element_by_xpath('//button/span[@class=\"MuiFab-label\"][text()=\"Sign in\"]').click()\n",
    "        time.sleep(5)\n",
    "        self.driver.find_element_by_xpath('//button/span[@class=\"MuiFab-label\"][text()=\"Sign in\"]').click()\n",
    "        time.sleep(5)\n",
    "    \n",
    "    def location(self):\n",
    "        self.driver.find_element_by_xpath('//span[@class=\"css-mudjgk\"][text()=\"Job offers\"]').click()\n",
    "        time.sleep(5)\n",
    "        self.driver.find_element_by_xpath('//div[@class=\"css-son5n9\"][text() = \"offers with salary\"]').click()\n",
    "        time.sleep(5)\n",
    "        self.driver.find_element_by_xpath('//span[@class=\"MuiButton-label\"][text() = \"Location\"]').click()\n",
    "        time.sleep(5)\n",
    "        choose_location = input('Choose location (in Polish):\\n')\n",
    "        ## dodać wszystkie miasta\n",
    "        if (choose_location in ['Warszawa', 'Kraków', 'Wrocław', 'Poznań', 'Trójmiasto']):\n",
    "            self.driver.find_element_by_xpath(f'//span[@class=\"MuiButton-label\"][text() = \"{choose_location}\"]').click()\n",
    "        else: print('There is no such location')\n",
    "        #     skill.send_keys(Keys.ENTER)\n",
    "        time.sleep(15)\n",
    "    \n",
    "    def salary(self):\n",
    "        self.driver.find_element_by_xpath('//span[@class=\"MuiButton-label\"][text() = \"More filters\"]').click()\n",
    "        time.sleep(5)\n",
    "        min_salary = int(input('Choose minimum salary expectations:\\n'))\n",
    "        max_salary = int(input('Choose maximum salary expectations:\\n'))\n",
    "        en =  self.driver.find_element_by_xpath('//span[@class=\"MuiSlider-thumb MuiSlider-thumbColorSecondary\"][@data-index=\"0\"]')\n",
    "        move1 = ActionChains(self.driver)\n",
    "        move1.click_and_hold(en).move_by_offset(11 * min_salary / 1000, 0).release().perform()\n",
    "        time.sleep(30)\n",
    "        en =  self.driver.find_element_by_xpath('//span[@class=\"MuiSlider-thumb MuiSlider-thumbColorSecondary\"][@data-index=\"1\"]')\n",
    "        move2 = ActionChains(self.driver)\n",
    "        move2.click_and_hold(en).move_by_offset(11 * (max_salary - 50000) / 1000, 0).release().perform()\n",
    "        time.sleep(30)\n",
    "        self.driver.find_element_by_xpath('//span[@class=\"MuiButton-label\"][text() = \"Show offers\"]').click()\n",
    "        time.sleep(5)        \n",
    "\n",
    "    def offers(self):\n",
    "        if(self.pages_100 == True):\n",
    "            number = 100\n",
    "        links = []\n",
    "        # for x in range(1, warunek[if true = 100, if false, niech sobie wybierze uzytkownik])\n",
    "        for x in range(1,3+1):\n",
    "            link = self.driver.find_element_by_xpath(f'//div[@class=\"css-1macblb\"]/div/div[{x}]/a').get_attribute(\"href\")\n",
    "            links.append(link)\n",
    "            time.sleep(3)\n",
    "        return links\n",
    "    \n",
    "    def __del__(self):\n",
    "        self.driver.quit()\n",
    "        \n",
    "#     if __name__ == '__main__':\n",
    "#         if (login == False):\n",
    "#             login()\n",
    "#         location()\n",
    "#         salary()\n",
    "#         offers()\n",
    "        "
   ]
  },
  {
   "cell_type": "code",
   "execution_count": 68,
   "metadata": {},
   "outputs": [],
   "source": [
    "c = Scraper()"
   ]
  },
  {
   "cell_type": "code",
   "execution_count": 69,
   "metadata": {},
   "outputs": [
    {
     "name": "stdout",
     "output_type": "stream",
     "text": [
      "Please provide your email:pyk\n",
      "Please provide your password:········\n"
     ]
    }
   ],
   "source": [
    "c.log_in()"
   ]
  },
  {
   "cell_type": "code",
   "execution_count": 70,
   "metadata": {},
   "outputs": [
    {
     "name": "stdout",
     "output_type": "stream",
     "text": [
      "Choose location (in Polish):\n",
      "Warszawa\n"
     ]
    }
   ],
   "source": [
    "c.location()"
   ]
  },
  {
   "cell_type": "code",
   "execution_count": 71,
   "metadata": {},
   "outputs": [
    {
     "name": "stdout",
     "output_type": "stream",
     "text": [
      "Choose minimum salary expectations:\n",
      "15000\n",
      "Choose maximum salary expectations:\n",
      "35000\n"
     ]
    }
   ],
   "source": [
    "c.salary()"
   ]
  },
  {
   "cell_type": "code",
   "execution_count": 72,
   "metadata": {},
   "outputs": [
    {
     "data": {
      "text/plain": [
       "['https://justjoin.it/offers/devire-net-developer-warszawa',\n",
       " 'https://justjoin.it/offers/devire-java-developer-52d62171-5c3d-4dd6-b28c-ded69fe5f278',\n",
       " 'https://justjoin.it/offers/trmew-obrot-s-a-big-data-administrator']"
      ]
     },
     "execution_count": 72,
     "metadata": {},
     "output_type": "execute_result"
    }
   ],
   "source": [
    "c.offers()"
   ]
  },
  {
   "cell_type": "code",
   "execution_count": 73,
   "metadata": {},
   "outputs": [],
   "source": [
    "c.__del__()"
   ]
  },
  {
   "cell_type": "code",
   "execution_count": null,
   "metadata": {},
   "outputs": [],
   "source": []
  },
  {
   "cell_type": "code",
   "execution_count": null,
   "metadata": {},
   "outputs": [],
   "source": []
  },
  {
   "cell_type": "code",
   "execution_count": null,
   "metadata": {},
   "outputs": [],
   "source": []
  }
 ],
 "metadata": {
  "kernelspec": {
   "display_name": "Python 3",
   "language": "python",
   "name": "python3"
  },
  "language_info": {
   "codemirror_mode": {
    "name": "ipython",
    "version": 3
   },
   "file_extension": ".py",
   "mimetype": "text/x-python",
   "name": "python",
   "nbconvert_exporter": "python",
   "pygments_lexer": "ipython3",
   "version": "3.6.4"
  }
 },
 "nbformat": 4,
 "nbformat_minor": 2
}
